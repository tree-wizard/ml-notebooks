{
 "cells": [
  {
   "attachments": {},
   "cell_type": "markdown",
   "metadata": {},
   "source": [
    "Exploration into numpy fuzzing with Codex.\n",
    "\n",
    "My prompt:\n",
    "\n",
    "# write python fuzz tests using atheris library\n",
    "# https://github.com/google/atheris\n",
    "\"\"\"\n",
    "# Generic Atheris fuzz Example\n",
    "# !/usr/bin/python3\n",
    "import atheris\n",
    "with atheris.instrument_imports():\n",
    "  import some_library\n",
    "  import sys\n",
    "\n",
    "def TestOneInput(data):\n",
    "  some_library.parse(data)\n",
    "atheris.Setup(sys.argv, TestOneInput)\n",
    "atheris.Fuzz()\n",
    "\n",
    "# When fuzzing Python, Atheris will report a failure if the Python code under test throws an uncaught exception.\n",
    "\"\"\"\n",
    "# Atheris FuzzedDataProvider API Reference\n",
    "# Often, a bytes object is not convenient input to your code being fuzzed. Similar to libFuzzer,\n",
    "# we provide a FuzzedDataProvider to translate these bytes into other input forms.\n",
    "# To construct the FuzzedDataProvider, use the following code:\n",
    "# fdp = atheris.FuzzedDataProvider(input_bytes)\n",
    "# The FuzzedDataProvider provides the following functions:\n",
    "# ConsumeBytes(count: int): Consume count bytes.\n",
    "# ConsumeUnicode(count: int): Consume unicode characters. Might contain surrogate pair characters, which according to the specification are invalid in this situation. However, many core software tools (e.g. Windows file paths) support them, so other software often needs to too.\n",
    "# ConsumeUnicodeNoSurrogates(count: int): Consume unicode characters, but never generate surrogate pair characters.\n",
    "# ConsumeString(count: int): Alias for ConsumeBytes in Python 2, or ConsumeUnicode in Python 3.\n",
    "# ConsumeInt(int: bytes): Consume a signed integer of the specified size (when written in two's complement notation).\n",
    "# ConsumeUInt(int: bytes): Consume an unsigned integer of the specified size.\n",
    "# ConsumeIntInRange(min: int, max: int): Consume an integer in the range [min, max].\n",
    "# ConsumeIntList(count: int, bytes: int): Consume a list of count integers of size bytes.\n",
    "# ConsumeIntListInRange(count: int, min: int, max: int): Consume a list of count integers in the range [min, max].\n",
    "# ConsumeFloat(): Consume an arbitrary floating#point value. Might produce weird values like NaN and Inf.\n",
    "# ConsumeRegularFloat(): Consume an arbitrary numeric floating#point value; never produces a special type like NaN or Inf.\n",
    "# ConsumeProbability(): Consume a floating#point value in the range [0, 1].\n",
    "# ConsumeFloatInRange(min: float, max: float): Consume a floating#point value in the range [min, max].\n",
    "# ConsumeFloatList(count: int): Consume a list of count arbitrary floating#point values. Might produce weird values like NaN and Inf.\n",
    "# ConsumeRegularFloatList(count: int): Consume a list of count arbitrary numeric floating#point values; never produces special types like NaN or Inf.\n",
    "# ConsumeProbabilityList(count: int): Consume a list of count floats in the range [0, 1].\n",
    "# ConsumeFloatListInRange(count: int, min: float, max: float): Consume a list of count floats in the range [min, max].\n",
    "# PickValueInList(l: list): Given a list, pick a random value.\n",
    "# ConsumeBool(): Consume either True or False."
   ]
  },
  {
   "attachments": {},
   "cell_type": "markdown",
   "metadata": {},
   "source": [
    "Fuzzer Results:"
   ]
  },
  {
   "cell_type": "code",
   "execution_count": 1,
   "metadata": {},
   "outputs": [
    {
     "name": "stderr",
     "output_type": "stream",
     "text": [
      "INFO: Instrumenting 21130 functions...\n"
     ]
    },
    {
     "name": "stdout",
     "output_type": "stream",
     "text": [
      "INFO: Instrumentation complete.\n"
     ]
    },
    {
     "name": "stderr",
     "output_type": "stream",
     "text": [
      "INFO: Using built-in libfuzzer\n",
      "WARNING: Failed to find function \"__sanitizer_acquire_crash_state\".\n",
      "WARNING: Failed to find function \"__sanitizer_print_stack_trace\".\n",
      "WARNING: Failed to find function \"__sanitizer_set_death_callback\".\n",
      "INFO: libFuzzer ignores flags that start with '--'\n",
      "INFO: Running with entropic power schedule (0xFF, 100).\n",
      "INFO: Seed: 2160301694\n",
      "INFO: -max_len is not provided; libFuzzer will not generate inputs larger than 4096 bytes\n",
      "INFO: A corpus is not provided, starting from an empty corpus\n",
      "#2\tINITED cov: 1 ft: 1 corp: 1/1b exec/s: 0 rss: 315Mb\n",
      "#35\tNEW    cov: 61 ft: 61 corp: 2/3b lim: 4 exec/s: 0 rss: 315Mb L: 2/2 MS: 3 InsertByte-ShuffleBytes-ShuffleBytes-\n",
      "#419\tNEW    cov: 172 ft: 177 corp: 3/6b lim: 6 exec/s: 0 rss: 315Mb L: 3/3 MS: 4 InsertByte-EraseBytes-InsertByte-ChangeByte-\n",
      "#1606\tNEW    cov: 173 ft: 178 corp: 4/9b lim: 17 exec/s: 0 rss: 315Mb L: 3/3 MS: 2 InsertByte-ShuffleBytes-\n",
      "#14879\tNEW    cov: 268 ft: 278 corp: 5/11b lim: 142 exec/s: 0 rss: 315Mb L: 2/3 MS: 3 ShuffleBytes-CrossOver-ChangeBinInt-\n",
      "#15337\tNEW    cov: 287 ft: 323 corp: 6/12b lim: 142 exec/s: 0 rss: 315Mb L: 1/3 MS: 3 ChangeByte-EraseBytes-ShuffleBytes-\n",
      "#15756\tNEW    cov: 287 ft: 329 corp: 7/30b lim: 142 exec/s: 0 rss: 315Mb L: 18/18 MS: 4 InsertRepeatedBytes-ShuffleBytes-InsertByte-CrossOver-\n",
      "#15938\tNEW    cov: 288 ft: 330 corp: 8/31b lim: 142 exec/s: 0 rss: 315Mb L: 1/18 MS: 2 EraseBytes-CopyPart-\n",
      "#16002\tNEW    cov: 299 ft: 417 corp: 9/112b lim: 142 exec/s: 0 rss: 315Mb L: 81/81 MS: 4 InsertRepeatedBytes-InsertByte-InsertByte-CrossOver-\n",
      "#16406\tNEW    cov: 299 ft: 425 corp: 10/114b lim: 142 exec/s: 0 rss: 315Mb L: 2/81 MS: 4 ChangeBit-InsertByte-CrossOver-CMP- DE: \"\\000\\000\"-\n",
      "#28730\tNEW    cov: 299 ft: 426 corp: 11/182b lim: 261 exec/s: 0 rss: 315Mb L: 68/81 MS: 4 ChangeBit-InsertRepeatedBytes-PersAutoDict-EraseBytes- DE: \"\\000\\000\"-\n",
      "#29518\tNEW    cov: 299 ft: 433 corp: 12/286b lim: 261 exec/s: 0 rss: 315Mb L: 104/104 MS: 3 ChangeBit-InsertByte-CrossOver-\n",
      "#30327\tNEW    cov: 299 ft: 496 corp: 13/393b lim: 269 exec/s: 0 rss: 315Mb L: 107/107 MS: 4 CopyPart-PersAutoDict-ChangeBit-CrossOver- DE: \"\\000\\000\"-\n",
      "#48783\tNEW    cov: 299 ft: 498 corp: 14/395b lim: 445 exec/s: 0 rss: 315Mb L: 2/107 MS: 1 InsertByte-\n",
      "#262144\tpulse  cov: 299 ft: 498 corp: 14/395b lim: 2567 exec/s: 87381 rss: 315Mb\n",
      "#281382\tNEW    cov: 299 ft: 502 corp: 15/516b lim: 2754 exec/s: 93794 rss: 315Mb L: 121/121 MS: 4 ShuffleBytes-InsertRepeatedBytes-ChangeBit-PersAutoDict- DE: \"\\000\\000\"-\n",
      "#524288\tpulse  cov: 299 ft: 502 corp: 15/516b lim: 4096 exec/s: 87381 rss: 315Mb\n",
      "#541520\tNEW    cov: 299 ft: 511 corp: 16/664b lim: 4096 exec/s: 90253 rss: 315Mb L: 148/148 MS: 3 InsertRepeatedBytes-InsertByte-ChangeBit-\n",
      "#1048576\tpulse  cov: 299 ft: 511 corp: 16/664b lim: 4096 exec/s: 87381 rss: 315Mb\n",
      "#2097152\tpulse  cov: 299 ft: 511 corp: 16/664b lim: 4096 exec/s: 77672 rss: 315Mb\n",
      "#4194304\tpulse  cov: 299 ft: 511 corp: 16/664b lim: 4096 exec/s: 79137 rss: 315Mb\n",
      "#8388608\tpulse  cov: 299 ft: 511 corp: 16/664b lim: 4096 exec/s: 79891 rss: 315Mb\n",
      "#16777216\tpulse  cov: 299 ft: 511 corp: 16/664b lim: 4096 exec/s: 79891 rss: 315Mb\n",
      "#16795135\tNEW    cov: 299 ft: 517 corp: 17/669b lim: 4096 exec/s: 79976 rss: 315Mb L: 5/148 MS: 5 PersAutoDict-CrossOver-PersAutoDict-CMP-ChangeBit- DE: \"\\000\\000\"-\"\\000\\000\"-\"\\000\\000\"-\n",
      "#16814666\tNEW    cov: 299 ft: 518 corp: 18/715b lim: 4096 exec/s: 80069 rss: 315Mb L: 46/148 MS: 1 InsertRepeatedBytes-\n",
      "#33554432\tpulse  cov: 299 ft: 518 corp: 18/715b lim: 4096 exec/s: 80854 rss: 315Mb\n",
      "#67108864\tpulse  cov: 299 ft: 518 corp: 18/715b lim: 4096 exec/s: 79512 rss: 315Mb\n",
      "#134217728\tpulse  cov: 299 ft: 518 corp: 18/715b lim: 4096 exec/s: 70160 rss: 315Mb\n",
      "#268435456\tpulse  cov: 299 ft: 518 corp: 18/715b lim: 4096 exec/s: 68200 rss: 315Mb\n"
     ]
    },
    {
     "name": "stdout",
     "output_type": "stream",
     "text": [
      "KeyboardInterrupt: stopping.\n"
     ]
    },
    {
     "ename": "SystemExit",
     "evalue": "130",
     "output_type": "error",
     "traceback": [
      "An exception has occurred, use %tb to see the full traceback.\n",
      "\u001b[0;31mSystemExit\u001b[0m\u001b[0;31m:\u001b[0m 130\n"
     ]
    },
    {
     "name": "stderr",
     "output_type": "stream",
     "text": [
      "/home/x/.local/lib/python3.9/site-packages/IPython/core/interactiveshell.py:3468: UserWarning: To exit: use 'exit', 'quit', or Ctrl-D.\n",
      "  warn(\"To exit: use 'exit', 'quit', or Ctrl-D.\", stacklevel=1)\n"
     ]
    }
   ],
   "source": [
    "# Function signature is npmatmul(x1: Array, x2: Array, /) -> Array\n",
    "# https://numpy.org/doc/stable/reference/generated/numpy.matmul.html\n",
    "# fuzz test for np.matmul():\n",
    "import sys\n",
    "import atheris\n",
    "import numpy as np\n",
    "\n",
    "def TestOneInput(fuzz_data):\n",
    "  fdp = atheris.FuzzedDataProvider(fuzz_data)\n",
    "  x1 = np.array(fdp.ConsumeIntList(10, 4))\n",
    "  x2 = np.array(fdp.ConsumeIntList(10, 4))\n",
    "  np.matmul(x1, x2)\n",
    "\n",
    "def main():\n",
    "  atheris.instrument_all()\n",
    "  atheris.Setup(sys.argv, TestOneInput, enable_python_coverage=True)\n",
    "  atheris.Fuzz()\n",
    "\n",
    "if __name__ == \"__main__\":\n",
    "  main()"
   ]
  },
  {
   "cell_type": "code",
   "execution_count": 2,
   "metadata": {},
   "outputs": [
    {
     "name": "stderr",
     "output_type": "stream",
     "text": [
      "INFO: Instrumenting 22574 functions...\n"
     ]
    },
    {
     "ename": "",
     "evalue": "",
     "output_type": "error",
     "traceback": [
      "\u001b[1;31mCanceled future for execute_request message before replies were done"
     ]
    },
    {
     "ename": "",
     "evalue": "",
     "output_type": "error",
     "traceback": [
      "\u001b[1;31mThe Kernel crashed while executing code in the the current cell or a previous cell. Please review the code in the cell(s) to identify a possible cause of the failure. Click <a href='https://aka.ms/vscodeJupyterKernelCrash'>here</a> for more info. View Jupyter <a href='command:jupyter.viewOutput'>log</a> for further details."
     ]
    }
   ],
   "source": [
    "# Function signature is np.array(object, dtype=None, copy=True, order='K', subok=False, ndmin=0)\n",
    "# https://numpy.org/doc/stable/reference/generated/numpy.array.html\n",
    "# fuzz test for np.array():\n",
    "import sys\n",
    "import atheris\n",
    "import numpy as np\n",
    "\n",
    "def TestOneInput(fuzz_data):\n",
    "  fdp = atheris.FuzzedDataProvider(fuzz_data)\n",
    "  x1 = np.array(fdp.ConsumeIntList(10, 4))\n",
    "  x2 = np.array(fdp.ConsumeIntList(10, 4))\n",
    "  # np.array(x1, x2) have comment out because it will raise TypeError\n",
    "\n",
    "def main():\n",
    "  atheris.instrument_all()\n",
    "  atheris.Setup(sys.argv, TestOneInput, enable_python_coverage=True)\n",
    "  atheris.Fuzz()\n",
    "\n",
    "if __name__ == \"__main__\":\n",
    "  main()"
   ]
  },
  {
   "cell_type": "code",
   "execution_count": null,
   "metadata": {},
   "outputs": [],
   "source": [
    "# Function signature is np.array_equal(a1, a2, strict=False)\n",
    "# https://numpy.org/doc/stable/reference/generated/numpy.array_equal.html\n",
    "# fuzz test for np.array_equal():\n",
    "import sys\n",
    "import atheris\n",
    "import numpy as np\n",
    "\n",
    "def TestOneInput(fuzz_data):\n",
    "  fdp = atheris.FuzzedDataProvider(fuzz_data)\n",
    "  x1 = np.array(fdp.ConsumeIntList(10, 4))\n",
    "  x2 = np.array(fdp.ConsumeIntList(10, 4))\n",
    "  np.array_equal(x1, x2)\n",
    "\n",
    "def main():\n",
    "  atheris.instrument_all()\n",
    "  atheris.Setup(sys.argv, TestOneInput, enable_python_coverage=True)\n",
    "  atheris.Fuzz()\n",
    "\n",
    "if __name__ == \"__main__\":\n",
    "  main()"
   ]
  },
  {
   "cell_type": "code",
   "execution_count": null,
   "metadata": {},
   "outputs": [],
   "source": [
    "# Function signature is np.array_equiv(a1, a2)\n",
    "# https://numpy.org/doc/stable/reference/generated/numpy.array_equiv.html\n",
    "# fuzz test for np.array_equiv():\n",
    "import sys\n",
    "import atheris\n",
    "import numpy as np\n",
    "\n",
    "def TestOneInput(fuzz_data):\n",
    "  fdp = atheris.FuzzedDataProvider(fuzz_data)\n",
    "  x1 = np.array(fdp.ConsumeIntList(10, 4))\n",
    "  x2 = np.array(fdp.ConsumeIntList(10, 4))\n",
    "  np.array_equiv(x1, x2)\n",
    "\n",
    "def main():\n",
    "  atheris.instrument_all()\n",
    "  atheris.Setup(sys.argv, TestOneInput, enable_python_coverage=True)\n",
    "  atheris.Fuzz()\n",
    "\n",
    "if __name__ == \"__main__\":\n",
    "  main()\n"
   ]
  },
  {
   "cell_type": "code",
   "execution_count": null,
   "metadata": {},
   "outputs": [],
   "source": [
    "# Function signature is np.array_repr(arr, max_line_width=None, precision=None, suppress_small=None)\n",
    "# https://numpy.org/doc/stable/reference/generated/numpy.array_repr.html\n",
    "# fuzz test for np.array_repr():\n",
    "import sys\n",
    "import atheris\n",
    "import numpy as np\n",
    "\n",
    "def TestOneInput(fuzz_data):\n",
    "  fdp = atheris.FuzzedDataProvider(fuzz_data)\n",
    "  x1 = np.array(fdp.ConsumeIntList(10, 4))\n",
    "  x2 = np.array(fdp.ConsumeIntList(10, 4))\n",
    "  np.array_repr(x1, x2)\n",
    "\n",
    "def main():\n",
    "  atheris.instrument_all()\n",
    "  atheris.Setup(sys.argv, TestOneInput, enable_python_coverage=True)\n",
    "  atheris.Fuzz()\n",
    "\n",
    "if __name__ == \"__main__\":\n",
    "  main()"
   ]
  },
  {
   "cell_type": "code",
   "execution_count": 2,
   "metadata": {},
   "outputs": [
    {
     "name": "stderr",
     "output_type": "stream",
     "text": [
      "INFO: Instrumenting 22574 functions...\n"
     ]
    },
    {
     "name": "stdout",
     "output_type": "stream",
     "text": [
      "INFO: Instrumentation complete.\n"
     ]
    },
    {
     "name": "stderr",
     "output_type": "stream",
     "text": [
      "INFO: Using built-in libfuzzer\n",
      "WARNING: Failed to find function \"__sanitizer_acquire_crash_state\".\n",
      "WARNING: Failed to find function \"__sanitizer_print_stack_trace\".\n",
      "WARNING: Failed to find function \"__sanitizer_set_death_callback\".\n",
      "INFO: libFuzzer ignores flags that start with '--'\n",
      "INFO: Running with entropic power schedule (0xFF, 100).\n",
      "INFO: Seed: 1870938804\n",
      "INFO: -max_len is not provided; libFuzzer will not generate inputs larger than 4096 bytes\n",
      "INFO: A corpus is not provided, starting from an empty corpus\n",
      "#2\tINITED cov: 1 ft: 1 corp: 1/1b exec/s: 0 rss: 328Mb\n",
      "#6\tNEW    cov: 139 ft: 139 corp: 2/4b lim: 4 exec/s: 0 rss: 328Mb L: 3/3 MS: 4 CopyPart-ShuffleBytes-InsertByte-ChangeBit-\n",
      "#615\tNEW    cov: 267 ft: 303 corp: 3/11b lim: 8 exec/s: 0 rss: 328Mb L: 7/7 MS: 4 CrossOver-CopyPart-InsertByte-ChangeBit-\n",
      "#616\tNEW    cov: 268 ft: 403 corp: 4/14b lim: 8 exec/s: 0 rss: 328Mb L: 3/7 MS: 1 ChangeBinInt-\n",
      "#1241\tNEW    cov: 268 ft: 522 corp: 5/21b lim: 14 exec/s: 0 rss: 328Mb L: 7/7 MS: 5 ChangeBit-EraseBytes-InsertByte-ChangeBit-InsertByte-\n",
      "#4096\tpulse  cov: 268 ft: 522 corp: 5/21b lim: 38 exec/s: 2048 rss: 328Mb\n",
      "#8192\tpulse  cov: 268 ft: 522 corp: 5/21b lim: 80 exec/s: 2730 rss: 328Mb\n",
      "#16384\tpulse  cov: 268 ft: 522 corp: 5/21b lim: 163 exec/s: 2340 rss: 328Mb\n",
      "#32768\tpulse  cov: 268 ft: 522 corp: 5/21b lim: 325 exec/s: 2340 rss: 328Mb\n",
      "#65536\tpulse  cov: 268 ft: 522 corp: 5/21b lim: 652 exec/s: 2730 rss: 328Mb\n",
      "#131072\tpulse  cov: 268 ft: 522 corp: 5/21b lim: 1300 exec/s: 3048 rss: 328Mb\n",
      "#262144\tpulse  cov: 268 ft: 522 corp: 5/21b lim: 2600 exec/s: 3120 rss: 328Mb\n",
      "#262645\tREDUCE cov: 268 ft: 522 corp: 5/19b lim: 2611 exec/s: 3126 rss: 328Mb L: 5/7 MS: 4 CopyPart-ChangeBit-EraseBytes-ChangeBinInt-\n",
      "#524288\tpulse  cov: 268 ft: 522 corp: 5/19b lim: 4096 exec/s: 3120 rss: 328Mb\n",
      "#1048576\tpulse  cov: 268 ft: 522 corp: 5/19b lim: 4096 exec/s: 3093 rss: 328Mb\n"
     ]
    },
    {
     "name": "stdout",
     "output_type": "stream",
     "text": [
      "KeyboardInterrupt: stopping.\n"
     ]
    },
    {
     "ename": "SystemExit",
     "evalue": "130",
     "output_type": "error",
     "traceback": [
      "An exception has occurred, use %tb to see the full traceback.\n",
      "\u001b[0;31mSystemExit\u001b[0m\u001b[0;31m:\u001b[0m 130\n"
     ]
    },
    {
     "name": "stderr",
     "output_type": "stream",
     "text": [
      "/home/x/.local/lib/python3.9/site-packages/IPython/core/interactiveshell.py:3468: UserWarning: To exit: use 'exit', 'quit', or Ctrl-D.\n",
      "  warn(\"To exit: use 'exit', 'quit', or Ctrl-D.\", stacklevel=1)\n"
     ]
    }
   ],
   "source": [
    "# Function signature is np.matmul(x1: Array, x2: Array, /) -> Array\n",
    "# https://numpy.org/doc/stable/reference/generated/numpy.matmul.html\n",
    "# fuzz test for np.matmul():\n",
    "import atheris\n",
    "import sys\n",
    "import numpy as np\n",
    "\n",
    "def TestOneInput(fuzz_data):\n",
    "  fdp = atheris.FuzzedDataProvider(fuzz_data)\n",
    "  shape = fdp.ConsumeIntInRange(1, 100)\n",
    "  x1 = np.random.uniform(size=(shape, shape))\n",
    "  x2 = np.random.uniform(size=(shape, shape))\n",
    "  np.matmul(x1, x2)\n",
    "\n",
    "def main():\n",
    "  atheris.instrument_all()\n",
    "  atheris.Setup(sys.argv, TestOneInput)\n",
    "  atheris.Fuzz()\n",
    "if __name__ == \"__main__\":\n",
    "    main()"
   ]
  },
  {
   "cell_type": "code",
   "execution_count": 1,
   "metadata": {},
   "outputs": [
    {
     "name": "stderr",
     "output_type": "stream",
     "text": [
      "INFO: Instrumenting 21130 functions...\n"
     ]
    },
    {
     "name": "stdout",
     "output_type": "stream",
     "text": [
      "INFO: Instrumentation complete.\n",
      "\n",
      " === Uncaught Python exception: ===\n",
      "ValueError: matmul: Input operand 1 has a mismatch in its core dimension 0, with gufunc signature (n?,k),(k,m?)->(n?,m?) (size 0 is different from 10)\n",
      "Traceback (most recent call last):\n",
      "  File \"/tmp/ipykernel_906965/2035549597.py\", line 12, in TestOneInput\n",
      "    np.matmul(x1, x2)\n",
      "ValueError: matmul: Input operand 1 has a mismatch in its core dimension 0, with gufunc signature (n?,k),(k,m?)->(n?,m?) (size 0 is different from 10)\n",
      "\n"
     ]
    },
    {
     "name": "stderr",
     "output_type": "stream",
     "text": [
      "INFO: Using built-in libfuzzer\n",
      "WARNING: Failed to find function \"__sanitizer_acquire_crash_state\".\n",
      "WARNING: Failed to find function \"__sanitizer_print_stack_trace\".\n",
      "WARNING: Failed to find function \"__sanitizer_set_death_callback\".\n",
      "INFO: libFuzzer ignores flags that start with '--'\n",
      "INFO: Running with entropic power schedule (0xFF, 100).\n",
      "INFO: Seed: 3541380530\n",
      "INFO: -max_len is not provided; libFuzzer will not generate inputs larger than 4096 bytes\n",
      "INFO: A corpus is not provided, starting from an empty corpus\n"
     ]
    },
    {
     "ename": "SystemExit",
     "evalue": "-1",
     "output_type": "error",
     "traceback": [
      "An exception has occurred, use %tb to see the full traceback.\n",
      "\u001b[0;31mSystemExit\u001b[0m\u001b[0;31m:\u001b[0m -1\n"
     ]
    },
    {
     "name": "stderr",
     "output_type": "stream",
     "text": [
      "/home/x/.local/lib/python3.9/site-packages/IPython/core/interactiveshell.py:3468: UserWarning: To exit: use 'exit', 'quit', or Ctrl-D.\n",
      "  warn(\"To exit: use 'exit', 'quit', or Ctrl-D.\", stacklevel=1)\n"
     ]
    }
   ],
   "source": [
    "# Function signature is np.matmul(x1: Array, x2: Array, /) -> Array\n",
    "# https://numpy.org/doc/stable/reference/generated/numpy.matmul.html\n",
    "# fuzz test for np.matmul():\n",
    "import atheris\n",
    "import sys\n",
    "import numpy as np\n",
    "\n",
    "def TestOneInput(data):\n",
    "  fdp = atheris.FuzzedDataProvider(data)\n",
    "  x1 = np.array([fdp.ConsumeInt(8) for _ in range(fdp.ConsumeInt(8))])\n",
    "  x2 = np.array([fdp.ConsumeInt(8) for _ in range(fdp.ConsumeInt(8))])\n",
    "  np.matmul(x1, x2)\n",
    "\n",
    "def main():\n",
    "  atheris.instrument_all()\n",
    "  atheris.Setup(sys.argv, TestOneInput)\n",
    "  atheris.Fuzz()\n",
    "\n",
    "if __name__ == \"__main__\":\n",
    "  main()"
   ]
  },
  {
   "cell_type": "code",
   "execution_count": 1,
   "metadata": {},
   "outputs": [
    {
     "name": "stderr",
     "output_type": "stream",
     "text": [
      "INFO: Instrumenting 21131 functions...\n"
     ]
    },
    {
     "name": "stdout",
     "output_type": "stream",
     "text": [
      "INFO: Instrumentation complete.\n"
     ]
    },
    {
     "name": "stderr",
     "output_type": "stream",
     "text": [
      "INFO: Using built-in libfuzzer\n",
      "WARNING: Failed to find function \"__sanitizer_acquire_crash_state\".\n",
      "WARNING: Failed to find function \"__sanitizer_print_stack_trace\".\n",
      "WARNING: Failed to find function \"__sanitizer_set_death_callback\".\n",
      "INFO: libFuzzer ignores flags that start with '--'\n",
      "INFO: Running with entropic power schedule (0xFF, 100).\n",
      "INFO: Seed: 3449822923\n",
      "INFO: -max_len is not provided; libFuzzer will not generate inputs larger than 4096 bytes\n",
      "INFO: A corpus is not provided, starting from an empty corpus\n",
      "#2\tINITED cov: 6 ft: 6 corp: 1/1b exec/s: 0 rss: 334Mb\n",
      "#71\tNEW    cov: 66 ft: 66 corp: 2/4b lim: 4 exec/s: 0 rss: 334Mb L: 3/3 MS: 4 ChangeBit-InsertByte-InsertByte-ShuffleBytes-\n",
      "#461\tNEW    cov: 185 ft: 191 corp: 3/8b lim: 6 exec/s: 0 rss: 334Mb L: 4/4 MS: 5 InsertByte-ChangeByte-ChangeASCIIInt-ShuffleBytes-ChangeBinInt-\n",
      "#1521\tNEW    cov: 186 ft: 192 corp: 4/11b lim: 14 exec/s: 0 rss: 334Mb L: 3/4 MS: 5 ChangeBit-CrossOver-CrossOver-ChangeBinInt-ShuffleBytes-\n",
      "#16035\tNEW    cov: 280 ft: 293 corp: 5/13b lim: 156 exec/s: 0 rss: 334Mb L: 2/4 MS: 4 ShuffleBytes-ChangeASCIIInt-EraseBytes-ChangeBit-\n",
      "#16423\tNEW    cov: 303 ft: 382 corp: 6/14b lim: 156 exec/s: 0 rss: 334Mb L: 1/4 MS: 3 InsertByte-EraseBytes-ChangeBit-\n",
      "#16802\tNEW    cov: 304 ft: 386 corp: 7/18b lim: 156 exec/s: 0 rss: 334Mb L: 4/4 MS: 4 ShuffleBytes-InsertByte-ChangeBinInt-CopyPart-\n",
      "#17132\tNEW    cov: 304 ft: 450 corp: 8/29b lim: 156 exec/s: 0 rss: 334Mb L: 11/11 MS: 5 ChangeByte-CrossOver-InsertByte-ChangeByte-CMP- DE: \"\\001\\000\\000\\000\\000\\000\\000\\000\"-\n",
      "#32581\tNEW    cov: 304 ft: 451 corp: 9/31b lim: 309 exec/s: 0 rss: 334Mb L: 2/11 MS: 4 ChangeByte-EraseBytes-EraseBytes-CopyPart-\n",
      "#33335\tNEW    cov: 304 ft: 467 corp: 10/34b lim: 309 exec/s: 0 rss: 334Mb L: 3/11 MS: 4 InsertByte-CrossOver-ShuffleBytes-ChangeByte-\n",
      "#38624\tNEW    cov: 304 ft: 506 corp: 11/131b lim: 357 exec/s: 0 rss: 334Mb L: 97/97 MS: 4 InsertRepeatedBytes-PersAutoDict-ShuffleBytes-CrossOver- DE: \"\\001\\000\\000\\000\\000\\000\\000\\000\"-\n",
      "#38872\tNEW    cov: 304 ft: 518 corp: 12/236b lim: 357 exec/s: 0 rss: 334Mb L: 105/105 MS: 3 CrossOver-PersAutoDict-PersAutoDict- DE: \"\\001\\000\\000\\000\\000\\000\\000\\000\"-\"\\001\\000\\000\\000\\000\\000\\000\\000\"-\n",
      "#47367\tNEW    cov: 304 ft: 523 corp: 13/308b lim: 437 exec/s: 0 rss: 334Mb L: 72/105 MS: 5 ChangeByte-ChangeByte-ChangeBit-InsertRepeatedBytes-ChangeBinInt-\n",
      "#47723\tNEW    cov: 304 ft: 531 corp: 14/309b lim: 437 exec/s: 0 rss: 334Mb L: 1/105 MS: 1 ChangeByte-\n",
      "#64028\tNEW    cov: 304 ft: 535 corp: 15/314b lim: 598 exec/s: 64028 rss: 334Mb L: 5/105 MS: 5 ShuffleBytes-PersAutoDict-PersAutoDict-ChangeByte-EraseBytes- DE: \"\\001\\000\\000\\000\\000\\000\\000\\000\"-\"\\001\\000\\000\\000\\000\\000\\000\\000\"-\n",
      "#64277\tNEW    cov: 304 ft: 537 corp: 16/402b lim: 598 exec/s: 64277 rss: 334Mb L: 88/105 MS: 4 EraseBytes-InsertByte-ChangeBit-PersAutoDict- DE: \"\\001\\000\\000\\000\\000\\000\\000\\000\"-\n",
      "#131072\tpulse  cov: 304 ft: 537 corp: 16/402b lim: 1260 exec/s: 65536 rss: 334Mb\n",
      "#262144\tpulse  cov: 304 ft: 537 corp: 16/402b lim: 2556 exec/s: 87381 rss: 334Mb\n",
      "#524288\tpulse  cov: 304 ft: 537 corp: 16/402b lim: 4096 exec/s: 65536 rss: 334Mb\n"
     ]
    },
    {
     "name": "stdout",
     "output_type": "stream",
     "text": [
      "KeyboardInterrupt: stopping.\n"
     ]
    },
    {
     "ename": "SystemExit",
     "evalue": "130",
     "output_type": "error",
     "traceback": [
      "An exception has occurred, use %tb to see the full traceback.\n",
      "\u001b[0;31mSystemExit\u001b[0m\u001b[0;31m:\u001b[0m 130\n"
     ]
    },
    {
     "name": "stderr",
     "output_type": "stream",
     "text": [
      "/home/x/.local/lib/python3.9/site-packages/IPython/core/interactiveshell.py:3468: UserWarning: To exit: use 'exit', 'quit', or Ctrl-D.\n",
      "  warn(\"To exit: use 'exit', 'quit', or Ctrl-D.\", stacklevel=1)\n"
     ]
    }
   ],
   "source": [
    "import sys\n",
    "import atheris\n",
    "from io import StringIO\n",
    "import numpy as np\n",
    "\n",
    "def get_fuzz_types():\n",
    "    # Define the rows\n",
    "    dtype = np.dtype(\n",
    "        [('f0', np.uint16), ('f1', np.float64), ('f2', 'S7'), ('f3', np.int8)]\n",
    "    )\n",
    "\n",
    "    # An expected match\n",
    "    expected = np.array(\n",
    "        [\n",
    "            (1, 2.4, \"a\", -34),\n",
    "            (2, 3.1, \"b\", 29),\n",
    "            (3, 9.9, \"g\", 120),\n",
    "        ],\n",
    "        dtype=dtype\n",
    "    )\n",
    "\n",
    "    return dtype, expected\n",
    "\n",
    "def TestOneInput(fuzz_data):\n",
    "  dtype, expected = get_fuzz_types()\n",
    "  fdp = atheris.FuzzedDataProvider(fuzz_data)\n",
    "  new_data = StringIO(fdp.ConsumeString(sys.maxsize))\n",
    "\n",
    "  try:\n",
    "    np.matmul(new_data, dtype=dtype, delimiter=\";\", skiprows=True)\n",
    "  # Catch all of the exceptions that are caught in \n",
    "  # https://github.com/numpy/numpy/blob/main/numpy/lib/tests/test_loadtxt.py\n",
    "  except StopIteration:\n",
    "    return\n",
    "  except ValueError:\n",
    "    return\n",
    "  except IndexError:\n",
    "    return\n",
    "  except TypeError:\n",
    "    return\n",
    "\n",
    "def main():\n",
    "  atheris.instrument_all()\n",
    "  atheris.Setup(sys.argv, TestOneInput)\n",
    "  atheris.Fuzz()\n",
    "\n",
    "if __name__ == \"__main__\":\n",
    "  main()"
   ]
  },
  {
   "cell_type": "code",
   "execution_count": 1,
   "metadata": {},
   "outputs": [
    {
     "name": "stdout",
     "output_type": "stream",
     "text": [
      "\n",
      " === Uncaught Python exception: ===\n",
      "ValueError: cannot reshape array of size 2 into shape (2,2)\n"
     ]
    },
    {
     "name": "stderr",
     "output_type": "stream",
     "text": [
      "INFO: Using built-in libfuzzer\n",
      "WARNING: Failed to find function \"__sanitizer_acquire_crash_state\".\n",
      "WARNING: Failed to find function \"__sanitizer_print_stack_trace\".\n",
      "WARNING: Failed to find function \"__sanitizer_set_death_callback\".\n",
      "INFO: found LLVMFuzzerCustomMutator (0x7f3ad11d2ea0). Disabling -len_control by default.\n",
      "INFO: libFuzzer ignores flags that start with '--'\n",
      "INFO: Running with entropic power schedule (0xFF, 100).\n",
      "INFO: Seed: 3720231343\n",
      "INFO: -max_len is not provided; libFuzzer will not generate inputs larger than 4096 bytes\n"
     ]
    },
    {
     "ename": "SystemExit",
     "evalue": "-1",
     "output_type": "error",
     "traceback": [
      "An exception has occurred, use %tb to see the full traceback.\n",
      "\u001b[0;31mSystemExit\u001b[0m\u001b[0;31m:\u001b[0m -1\n"
     ]
    },
    {
     "name": "stdout",
     "output_type": "stream",
     "text": [
      "Traceback (most recent call last):\n",
      "  File \"/tmp/ipykernel_913923/3006103088.py\", line 22, in TestOneInput\n",
      "    matrix1 = np.reshape(matrix1, (2, 2))\n",
      "  File \"<__array_function__ internals>\", line 200, in reshape\n",
      "  File \"/home/x/miniconda3/envs/tf/lib/python3.9/site-packages/numpy/core/fromnumeric.py\", line 298, in reshape\n",
      "    return _wrapfunc(a, 'reshape', newshape, order=order)\n",
      "  File \"/home/x/miniconda3/envs/tf/lib/python3.9/site-packages/numpy/core/fromnumeric.py\", line 54, in _wrapfunc\n",
      "    return _wrapit(obj, method, *args, **kwds)\n",
      "  File \"/home/x/miniconda3/envs/tf/lib/python3.9/site-packages/numpy/core/fromnumeric.py\", line 43, in _wrapit\n",
      "    result = getattr(asarray(obj), method)(*args, **kwds)\n",
      "ValueError: cannot reshape array of size 2 into shape (2,2)\n",
      "\n"
     ]
    },
    {
     "name": "stderr",
     "output_type": "stream",
     "text": [
      "/home/x/.local/lib/python3.9/site-packages/IPython/core/interactiveshell.py:3468: UserWarning: To exit: use 'exit', 'quit', or Ctrl-D.\n",
      "  warn(\"To exit: use 'exit', 'quit', or Ctrl-D.\", stacklevel=1)\n"
     ]
    },
    {
     "name": "stdout",
     "output_type": "stream",
     "text": [
      "\n",
      " === Timeout: 302s elapsed, timeout=300s ===\n"
     ]
    }
   ],
   "source": [
    "import atheris\n",
    "import sys\n",
    "import numpy as np\n",
    "\n",
    "# Define a custom mutator for the input data\n",
    "def CustomMutator(data):\n",
    "  # We can use the built-in `atheris.Mutate` function to mutate the input data\n",
    "  mutated_data = atheris.Mutate(data)\n",
    "  # Return the mutated data\n",
    "  return mutated_data\n",
    "\n",
    "@atheris.instrument_func\n",
    "def TestOneInput(data):\n",
    "  # Use Atheris to create a FuzzedDataProvider\n",
    "  fdp = atheris.FuzzedDataProvider(data)\n",
    "\n",
    "  # Use the FuzzedDataProvider to generate random matrices for the matrix multiplication\n",
    "  matrix1 = fdp.ConsumeFloatListInRange(2, -100, 100)\n",
    "  matrix2 = fdp.ConsumeFloatListInRange(2, -100, 100)\n",
    "\n",
    "  # Reshape the matrices to be 2x2\n",
    "  matrix1 = np.reshape(matrix1, (2, 2))\n",
    "  matrix2 = np.reshape(matrix2, (2, 2))\n",
    "\n",
    "  # Perform the matrix multiplication\n",
    "  result = np.matmul(matrix1, matrix2)\n",
    "\n",
    "  # Check that the result is a 2x2 matrix\n",
    "  if result.shape != (2, 2):\n",
    "    raise RuntimeError('Unexpected matrix shape')\n",
    "\n",
    "if __name__ == '__main__':\n",
    "  # Set up Atheris with the custom mutator and the TestOneInput function\n",
    "  atheris.Setup(sys.argv, TestOneInput, custom_mutator=CustomMutator)\n",
    "\n",
    "  # Start the fuzzing process\n",
    "  atheris.Fuzz()\n"
   ]
  }
 ],
 "metadata": {
  "kernelspec": {
   "display_name": "tf",
   "language": "python",
   "name": "python3"
  },
  "language_info": {
   "codemirror_mode": {
    "name": "ipython",
    "version": 3
   },
   "file_extension": ".py",
   "mimetype": "text/x-python",
   "name": "python",
   "nbconvert_exporter": "python",
   "pygments_lexer": "ipython3",
   "version": "3.9.16"
  },
  "orig_nbformat": 4
 },
 "nbformat": 4,
 "nbformat_minor": 2
}
